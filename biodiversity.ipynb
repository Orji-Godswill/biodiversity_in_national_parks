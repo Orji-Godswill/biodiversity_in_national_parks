{
 "cells": [
  {
   "cell_type": "markdown",
   "metadata": {},
   "source": [
    "# Introduction\n",
    "\n",
    "**Background**\n",
    "\n",
    "Indisciminate hunting of animals for food is one of mans activities which has put the life of most animals in danger of extinction. One of the purposes of a national park is to preserve the natural environment and protect wildlife. Endangered animal species are conserved in the national parks. \n",
    "\n",
    "This project will analyse the conservation statuses of some endangered species of in the US national parks. Generally, this project will tend to answer the following questions.\n",
    "\n",
    "- What is the distribution of conservation status for species?\n",
    "- Are certain types of species more likely to be endangered?\n",
    "- Are the differences between species and their conservation status significant?\n",
    "- Which animal is most prevalent and what is their distribution amongst parks?\n",
    "\n",
    "**Data Source:**\n",
    "\n",
    "Two datasets `Observations.csv` and `Species_info.csv` were explored in this analysis. The datasets are property of [codecademy.com](https://www.codecademy.com)\n",
    "\n",
    "**Study Outline:**\n",
    "\n",
    "The \n",
    "\n",
    "## Scoping\n",
    "\n",
    "### Project goals\n",
    "\n",
    "- To determine the distribution of `conservation_status` for animals in the park.\n",
    "- To determine the liklihood of some species of animal been `endangered`.\n",
    "- To determine the `significance status` of the different between the species and their conservation.\n",
    "- To determine which species were `spotted` the most at each park.\n",
    "\n",
    "### Data\n",
    "\n",
    "The data used in this analysis was provided by Codecademy. The datasets are named `observations.csv` and `species_info.csv` respectively. The `observation.csv` file contains information of recorded sightings of different species at several national parks in the United States of America for the past seven days. On the otherhand, the `species_info.csv` file has information of the different species of animals in the parks and their conservation status.\n",
    "\n",
    "### Analysis\n",
    "\n",
    "Descriptive statistics and data visualization techniques are some of the analysis methods that will be carried out on the data to answer the project questions and to achieve the objectives of this investigation. Statistical inference will be used later to test the significance of the observed values. Some of the key metrics that will be used are:\n",
    "\n",
    "- distributions\n",
    "- counts\n",
    "- relationship between species\n",
    "- conservation status of species\n",
    "- observations of species in parks\n",
    "\n",
    "?? List the analyses methods\n",
    "?? State the purpose of each of the analysis methods\n",
    "?? which action will the analysis inform\n",
    "?? How will you validate this analysis using existing data\n",
    "\n",
    "- state methodoogy and metric\n",
    "- how will you compare against existing baselines ?\n",
    "\n",
    "### Evaluation"
   ]
  },
  {
   "cell_type": "markdown",
   "metadata": {},
   "source": [
    "## Import Python Libraries"
   ]
  },
  {
   "cell_type": "code",
   "execution_count": 5,
   "metadata": {},
   "outputs": [],
   "source": [
    "import pandas as pd\n",
    "import numpy as np\n",
    "import seaborn as sns\n",
    "import matplotlib.pyplot as plt"
   ]
  },
  {
   "cell_type": "markdown",
   "metadata": {},
   "source": [
    "### Load Data"
   ]
  },
  {
   "cell_type": "markdown",
   "metadata": {},
   "source": [
    "**Observations:**\n",
    "\n",
    "The observations.csv file has three columns. \n",
    "\n",
    "`scientific_name:` The scientific name of each species\n",
    "\n",
    "`park_name:` The name of the Park where the species were found\n",
    "\n",
    "`observations:` The number of time each species was observed at the park \n"
   ]
  },
  {
   "cell_type": "code",
   "execution_count": 6,
   "metadata": {},
   "outputs": [],
   "source": [
    "observations  = pd.read_csv('observations.csv')\n",
    "\n"
   ]
  },
  {
   "cell_type": "markdown",
   "metadata": {},
   "source": [
    "**Species:**\n",
    "\n",
    "The species.csv file has four columns. \n",
    "\n",
    "`category:` The classification of each specie \n",
    "\n",
    "`scientific_name:` The scientific name of each specie\n",
    "\n",
    "`common_name:` The common name of the each specie\n",
    "\n",
    "`conservation_status:` The current conservation status of each specie \n",
    "\n",
    "\n"
   ]
  },
  {
   "cell_type": "code",
   "execution_count": 7,
   "metadata": {},
   "outputs": [],
   "source": [
    "speices = pd.read_csv('species_info.csv')"
   ]
  }
 ],
 "metadata": {
  "kernelspec": {
   "display_name": "Python 3.8.8 ('base')",
   "language": "python",
   "name": "python3"
  },
  "language_info": {
   "codemirror_mode": {
    "name": "ipython",
    "version": 3
   },
   "file_extension": ".py",
   "mimetype": "text/x-python",
   "name": "python",
   "nbconvert_exporter": "python",
   "pygments_lexer": "ipython3",
   "version": "3.8.8"
  },
  "vscode": {
   "interpreter": {
    "hash": "42c0269f0e085ed546a1adc5c176aa93e10703cf91ed6887afe73817bdb233f8"
   }
  }
 },
 "nbformat": 4,
 "nbformat_minor": 4
}
